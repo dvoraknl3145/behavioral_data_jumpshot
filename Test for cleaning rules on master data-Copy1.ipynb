{
 "cells": [
  {
   "cell_type": "code",
   "execution_count": 28,
   "metadata": {
    "collapsed": false
   },
   "outputs": [],
   "source": [
    "import pandas as pd\n",
    "import numpy as np\n",
    "import datetime as dt\n",
    "import webbrowser\n",
    "\n",
    "\n",
    "import matplotlib.pyplot as plt\n",
    "#import seaborn.apionly as sns\n",
    "\n",
    "#pd.set_option('max_columns', 50)\n",
    "%matplotlib inline"
   ]
  },
  {
   "cell_type": "code",
   "execution_count": 3,
   "metadata": {
    "collapsed": true
   },
   "outputs": [],
   "source": [
    "#Import files\n",
    "dec = pd.read_csv(\"H:\\\\Nicole & Riccardo - Behavioral Data\\Data Files (Txt)\\Master Source Data\\RN_Mobile_USUK_AppWebUsage_Dec2015.txt\", sep='\\t', nrows=1000000)"
   ]
  },
  {
   "cell_type": "code",
   "execution_count": 4,
   "metadata": {
    "collapsed": false
   },
   "outputs": [
    {
     "data": {
      "text/html": [
       "<div>\n",
       "<table border=\"1\" class=\"dataframe\">\n",
       "  <thead>\n",
       "    <tr style=\"text-align: right;\">\n",
       "      <th></th>\n",
       "      <th>PaM_Id</th>\n",
       "      <th>PID</th>\n",
       "      <th>LocalDateTime</th>\n",
       "      <th>LocalTimeZone</th>\n",
       "      <th>AppName</th>\n",
       "      <th>Appname_clean</th>\n",
       "      <th>Category</th>\n",
       "      <th>AppExclusion_Flag</th>\n",
       "      <th>BaseURL</th>\n",
       "      <th>SubDomain</th>\n",
       "      <th>Domain</th>\n",
       "      <th>TimeSpent_Seconds</th>\n",
       "      <th>Imputed_Web</th>\n",
       "      <th>DeviceType</th>\n",
       "      <th>Device_Name</th>\n",
       "      <th>Market</th>\n",
       "      <th>OS</th>\n",
       "      <th>Weight</th>\n",
       "      <th>EngagementBand</th>\n",
       "      <th>Local_UsageTime</th>\n",
       "      <th>Local_UsageDate</th>\n",
       "      <th>CST_Time</th>\n",
       "      <th>CST_UsageTime</th>\n",
       "      <th>CST_UsageDate</th>\n",
       "      <th>Search_Term</th>\n",
       "      <th>WebCategory1</th>\n",
       "      <th>WebCategory2</th>\n",
       "      <th>WebCategory3</th>\n",
       "      <th>DataSource</th>\n",
       "    </tr>\n",
       "  </thead>\n",
       "  <tbody>\n",
       "    <tr>\n",
       "      <th>0</th>\n",
       "      <td>212323</td>\n",
       "      <td>30039590</td>\n",
       "      <td>2015-12-25 04:48:12</td>\n",
       "      <td>PST</td>\n",
       "      <td>NaN</td>\n",
       "      <td>NaN</td>\n",
       "      <td>NaN</td>\n",
       "      <td>NaN</td>\n",
       "      <td>bloody-disgusting.com</td>\n",
       "      <td>bloody-disgusting.com</td>\n",
       "      <td>bloody-disgusting.com</td>\n",
       "      <td>60</td>\n",
       "      <td>NaN</td>\n",
       "      <td>Phone</td>\n",
       "      <td>HTC HTC One</td>\n",
       "      <td>US</td>\n",
       "      <td>Android</td>\n",
       "      <td>2.92701</td>\n",
       "      <td>4</td>\n",
       "      <td>04:48:12</td>\n",
       "      <td>12/25/2015</td>\n",
       "      <td>2015-12-25 06:48:12</td>\n",
       "      <td>06:48:12</td>\n",
       "      <td>12/25/2015</td>\n",
       "      <td>NaN</td>\n",
       "      <td>Entertainment</td>\n",
       "      <td>NaN</td>\n",
       "      <td>NaN</td>\n",
       "      <td>Web</td>\n",
       "    </tr>\n",
       "    <tr>\n",
       "      <th>1</th>\n",
       "      <td>212323</td>\n",
       "      <td>30039590</td>\n",
       "      <td>2015-12-25 05:31:15</td>\n",
       "      <td>PST</td>\n",
       "      <td>NaN</td>\n",
       "      <td>NaN</td>\n",
       "      <td>NaN</td>\n",
       "      <td>NaN</td>\n",
       "      <td>steamcommunity.com</td>\n",
       "      <td>steamcommunity.com</td>\n",
       "      <td>steamcommunity.com</td>\n",
       "      <td>1384</td>\n",
       "      <td>NaN</td>\n",
       "      <td>Phone</td>\n",
       "      <td>HTC HTC One</td>\n",
       "      <td>US</td>\n",
       "      <td>Android</td>\n",
       "      <td>2.92701</td>\n",
       "      <td>4</td>\n",
       "      <td>05:31:15</td>\n",
       "      <td>12/25/2015</td>\n",
       "      <td>2015-12-25 07:31:15</td>\n",
       "      <td>07:31:15</td>\n",
       "      <td>12/25/2015</td>\n",
       "      <td>NaN</td>\n",
       "      <td>Computers and Internet</td>\n",
       "      <td>NaN</td>\n",
       "      <td>NaN</td>\n",
       "      <td>Web</td>\n",
       "    </tr>\n",
       "    <tr>\n",
       "      <th>2</th>\n",
       "      <td>212323</td>\n",
       "      <td>30039590</td>\n",
       "      <td>2015-12-26 02:49:06</td>\n",
       "      <td>PST</td>\n",
       "      <td>NaN</td>\n",
       "      <td>NaN</td>\n",
       "      <td>NaN</td>\n",
       "      <td>NaN</td>\n",
       "      <td>rarbg.to</td>\n",
       "      <td>rarbg.to</td>\n",
       "      <td>rarbg.to</td>\n",
       "      <td>23</td>\n",
       "      <td>NaN</td>\n",
       "      <td>Phone</td>\n",
       "      <td>HTC HTC One</td>\n",
       "      <td>US</td>\n",
       "      <td>Android</td>\n",
       "      <td>2.92701</td>\n",
       "      <td>4</td>\n",
       "      <td>02:49:06</td>\n",
       "      <td>12/26/2015</td>\n",
       "      <td>2015-12-26 04:49:06</td>\n",
       "      <td>04:49:06</td>\n",
       "      <td>12/26/2015</td>\n",
       "      <td>NaN</td>\n",
       "      <td>NaN</td>\n",
       "      <td>NaN</td>\n",
       "      <td>NaN</td>\n",
       "      <td>Web</td>\n",
       "    </tr>\n",
       "    <tr>\n",
       "      <th>3</th>\n",
       "      <td>212323</td>\n",
       "      <td>30039590</td>\n",
       "      <td>2015-12-26 02:52:43</td>\n",
       "      <td>PST</td>\n",
       "      <td>NaN</td>\n",
       "      <td>NaN</td>\n",
       "      <td>NaN</td>\n",
       "      <td>NaN</td>\n",
       "      <td>mobile.twitter.com</td>\n",
       "      <td>mobile.twitter.com</td>\n",
       "      <td>twitter.com</td>\n",
       "      <td>42</td>\n",
       "      <td>NaN</td>\n",
       "      <td>Phone</td>\n",
       "      <td>HTC HTC One</td>\n",
       "      <td>US</td>\n",
       "      <td>Android</td>\n",
       "      <td>2.92701</td>\n",
       "      <td>4</td>\n",
       "      <td>02:52:43</td>\n",
       "      <td>12/26/2015</td>\n",
       "      <td>2015-12-26 04:52:43</td>\n",
       "      <td>04:52:43</td>\n",
       "      <td>12/26/2015</td>\n",
       "      <td>NaN</td>\n",
       "      <td>Computers and Internet</td>\n",
       "      <td>NaN</td>\n",
       "      <td>NaN</td>\n",
       "      <td>Web</td>\n",
       "    </tr>\n",
       "    <tr>\n",
       "      <th>4</th>\n",
       "      <td>212323</td>\n",
       "      <td>30039590</td>\n",
       "      <td>2015-12-26 02:56:39</td>\n",
       "      <td>PST</td>\n",
       "      <td>NaN</td>\n",
       "      <td>NaN</td>\n",
       "      <td>NaN</td>\n",
       "      <td>NaN</td>\n",
       "      <td>mobile.twitter.com</td>\n",
       "      <td>mobile.twitter.com</td>\n",
       "      <td>twitter.com</td>\n",
       "      <td>34</td>\n",
       "      <td>NaN</td>\n",
       "      <td>Phone</td>\n",
       "      <td>HTC HTC One</td>\n",
       "      <td>US</td>\n",
       "      <td>Android</td>\n",
       "      <td>2.92701</td>\n",
       "      <td>4</td>\n",
       "      <td>02:56:39</td>\n",
       "      <td>12/26/2015</td>\n",
       "      <td>2015-12-26 04:56:39</td>\n",
       "      <td>04:56:39</td>\n",
       "      <td>12/26/2015</td>\n",
       "      <td>NaN</td>\n",
       "      <td>Computers and Internet</td>\n",
       "      <td>NaN</td>\n",
       "      <td>NaN</td>\n",
       "      <td>Web</td>\n",
       "    </tr>\n",
       "  </tbody>\n",
       "</table>\n",
       "</div>"
      ],
      "text/plain": [
       "   PaM_Id       PID        LocalDateTime LocalTimeZone AppName Appname_clean  \\\n",
       "0  212323  30039590  2015-12-25 04:48:12           PST     NaN           NaN   \n",
       "1  212323  30039590  2015-12-25 05:31:15           PST     NaN           NaN   \n",
       "2  212323  30039590  2015-12-26 02:49:06           PST     NaN           NaN   \n",
       "3  212323  30039590  2015-12-26 02:52:43           PST     NaN           NaN   \n",
       "4  212323  30039590  2015-12-26 02:56:39           PST     NaN           NaN   \n",
       "\n",
       "  Category  AppExclusion_Flag                BaseURL              SubDomain  \\\n",
       "0      NaN                NaN  bloody-disgusting.com  bloody-disgusting.com   \n",
       "1      NaN                NaN     steamcommunity.com     steamcommunity.com   \n",
       "2      NaN                NaN               rarbg.to               rarbg.to   \n",
       "3      NaN                NaN     mobile.twitter.com     mobile.twitter.com   \n",
       "4      NaN                NaN     mobile.twitter.com     mobile.twitter.com   \n",
       "\n",
       "                  Domain  TimeSpent_Seconds  Imputed_Web DeviceType  \\\n",
       "0  bloody-disgusting.com                 60          NaN      Phone   \n",
       "1     steamcommunity.com               1384          NaN      Phone   \n",
       "2               rarbg.to                 23          NaN      Phone   \n",
       "3            twitter.com                 42          NaN      Phone   \n",
       "4            twitter.com                 34          NaN      Phone   \n",
       "\n",
       "   Device_Name Market       OS   Weight  EngagementBand Local_UsageTime  \\\n",
       "0  HTC HTC One     US  Android  2.92701               4        04:48:12   \n",
       "1  HTC HTC One     US  Android  2.92701               4        05:31:15   \n",
       "2  HTC HTC One     US  Android  2.92701               4        02:49:06   \n",
       "3  HTC HTC One     US  Android  2.92701               4        02:52:43   \n",
       "4  HTC HTC One     US  Android  2.92701               4        02:56:39   \n",
       "\n",
       "  Local_UsageDate             CST_Time CST_UsageTime CST_UsageDate  \\\n",
       "0      12/25/2015  2015-12-25 06:48:12      06:48:12    12/25/2015   \n",
       "1      12/25/2015  2015-12-25 07:31:15      07:31:15    12/25/2015   \n",
       "2      12/26/2015  2015-12-26 04:49:06      04:49:06    12/26/2015   \n",
       "3      12/26/2015  2015-12-26 04:52:43      04:52:43    12/26/2015   \n",
       "4      12/26/2015  2015-12-26 04:56:39      04:56:39    12/26/2015   \n",
       "\n",
       "  Search_Term            WebCategory1 WebCategory2  WebCategory3 DataSource  \n",
       "0         NaN           Entertainment          NaN           NaN        Web  \n",
       "1         NaN  Computers and Internet          NaN           NaN        Web  \n",
       "2         NaN                     NaN          NaN           NaN        Web  \n",
       "3         NaN  Computers and Internet          NaN           NaN        Web  \n",
       "4         NaN  Computers and Internet          NaN           NaN        Web  "
      ]
     },
     "execution_count": 4,
     "metadata": {},
     "output_type": "execute_result"
    }
   ],
   "source": [
    "dec.head()"
   ]
  },
  {
   "cell_type": "markdown",
   "metadata": {},
   "source": [
    "# -1. Eliminating mistakenly opened apps\n",
    "#### Generate histogram of time spent per app session by Pam_ID and by appname for all sessions throughout the month"
   ]
  },
  {
   "cell_type": "code",
   "execution_count": 5,
   "metadata": {
    "collapsed": false
   },
   "outputs": [
    {
     "data": {
      "text/html": [
       "<div>\n",
       "<table border=\"1\" class=\"dataframe\">\n",
       "  <thead>\n",
       "    <tr style=\"text-align: right;\">\n",
       "      <th></th>\n",
       "      <th>PaM_Id</th>\n",
       "      <th>Appname_clean</th>\n",
       "      <th>TimeSpent_Seconds</th>\n",
       "      <th>DeviceType</th>\n",
       "      <th>DataSource</th>\n",
       "    </tr>\n",
       "  </thead>\n",
       "  <tbody>\n",
       "    <tr>\n",
       "      <th>140</th>\n",
       "      <td>212323</td>\n",
       "      <td>Hangouts</td>\n",
       "      <td>114</td>\n",
       "      <td>Phone</td>\n",
       "      <td>App</td>\n",
       "    </tr>\n",
       "    <tr>\n",
       "      <th>160</th>\n",
       "      <td>212323</td>\n",
       "      <td>HTC Sense Home</td>\n",
       "      <td>17</td>\n",
       "      <td>Phone</td>\n",
       "      <td>App</td>\n",
       "    </tr>\n",
       "    <tr>\n",
       "      <th>162</th>\n",
       "      <td>212323</td>\n",
       "      <td>Hangouts</td>\n",
       "      <td>121</td>\n",
       "      <td>Phone</td>\n",
       "      <td>App</td>\n",
       "    </tr>\n",
       "    <tr>\n",
       "      <th>163</th>\n",
       "      <td>212323</td>\n",
       "      <td>Hangouts</td>\n",
       "      <td>75</td>\n",
       "      <td>Phone</td>\n",
       "      <td>App</td>\n",
       "    </tr>\n",
       "    <tr>\n",
       "      <th>164</th>\n",
       "      <td>212323</td>\n",
       "      <td>Internet</td>\n",
       "      <td>235</td>\n",
       "      <td>Phone</td>\n",
       "      <td>App</td>\n",
       "    </tr>\n",
       "  </tbody>\n",
       "</table>\n",
       "</div>"
      ],
      "text/plain": [
       "     PaM_Id   Appname_clean  TimeSpent_Seconds DeviceType DataSource\n",
       "140  212323        Hangouts                114      Phone        App\n",
       "160  212323  HTC Sense Home                 17      Phone        App\n",
       "162  212323        Hangouts                121      Phone        App\n",
       "163  212323        Hangouts                 75      Phone        App\n",
       "164  212323        Internet                235      Phone        App"
      ]
     },
     "execution_count": 5,
     "metadata": {},
     "output_type": "execute_result"
    }
   ],
   "source": [
    "#subset datafile by only columns necessary, and rows for App only\n",
    "hist_dec = dec[['PaM_Id','Appname_clean','TimeSpent_Seconds','DeviceType','DataSource']].loc[dec.DataSource == \"App\"]\n",
    "hist_dec.PaM_Id = hist_dec.PaM_Id.astype(str)\n",
    "hist_dec.head()"
   ]
  },
  {
   "cell_type": "code",
   "execution_count": 6,
   "metadata": {
    "collapsed": false
   },
   "outputs": [
    {
     "data": {
      "text/plain": [
       "array([<matplotlib.axes._subplots.AxesSubplot object at 0x0000000013A2A160>,\n",
       "       <matplotlib.axes._subplots.AxesSubplot object at 0x00000000215B6908>], dtype=object)"
      ]
     },
     "execution_count": 6,
     "metadata": {},
     "output_type": "execute_result"
    },
    {
     "data": {
      "image/png": "[encoded data removed]",
      "text/plain": [
       "<matplotlib.figure.Figure at 0x9f6bcf8>"
      ]
     },
     "metadata": {},
     "output_type": "display_data"
    }
   ],
   "source": [
    "hist_dec.hist(by='DeviceType', column = \"TimeSpent_Seconds\", range=[0,100], bins=50)"
   ]
  },
  {
   "cell_type": "code",
   "execution_count": 27,
   "metadata": {
    "collapsed": false
   },
   "outputs": [
    {
     "data": {
      "text/plain": [
       "array([<matplotlib.axes._subplots.AxesSubplot object at 0x00000000227DBEB8>,\n",
       "       <matplotlib.axes._subplots.AxesSubplot object at 0x000000000EC2E978>], dtype=object)"
      ]
     },
     "execution_count": 27,
     "metadata": {},
     "output_type": "execute_result"
    },
    {
     "data": {
      "image/png": "[encoded data removed]",
      "text/plain": [
       "<matplotlib.figure.Figure at 0x401e9b0>"
      ]
     },
     "metadata": {},
     "output_type": "display_data"
    }
   ],
   "source": [
    "hist_dec.hist(by='DeviceType', column = \"TimeSpent_Seconds\", range=[0,20], bins=20, figsize = (20,10))"
   ]
  },
  {
   "cell_type": "code",
   "execution_count": 34,
   "metadata": {
    "collapsed": false
   },
   "outputs": [
    {
     "data": {
      "text/plain": [
       "array([<matplotlib.axes._subplots.AxesSubplot object at 0x0000000015162A58>,\n",
       "       <matplotlib.axes._subplots.AxesSubplot object at 0x000000001A5E34E0>], dtype=object)"
      ]
     },
     "execution_count": 34,
     "metadata": {},
     "output_type": "execute_result"
    },
    {
     "data": {
      "image/png": "[encoded data removed]",
      "text/plain": [
       "<matplotlib.figure.Figure at 0x1196a7b8>"
      ]
     },
     "metadata": {},
     "output_type": "display_data"
    }
   ],
   "source": [
    "#let's normalize this histogram so sum of columns = 100%\n",
    "\n",
    "#plt.subplots() is a function that returns a tuple containing a figure and axes object(s).  Thus when using fig, ax = plt.subplots() \n",
    "# you unpack this tuple into the variables fig and ax. \n",
    "# Having fig is useful if you want to change figure-level attributes or save the figure as an image file later \n",
    "# (e.g. with fig.savefig('yourfilename.png').\n",
    "fig, ax = plt.subplots(1,2, figsize=(10,4)) # one row, two columns, figure size\n",
    "ax"
   ]
  },
  {
   "cell_type": "code",
   "execution_count": 78,
   "metadata": {
    "collapsed": false
   },
   "outputs": [
    {
     "data": {
      "text/plain": [
       "(array([    0, 55244, 31692, 20214, 16382, 31399, 10526,  8917,  7547,\n",
       "         7772, 20907,  5478,  4987,  4461,  5209, 15088,  3758,  3591,\n",
       "         3482,  3805, 11805,  2929,  2748,  2514,  3097,  9579,  2582,\n",
       "         2397,  2417,  3060,  9200,  3153,  2538,  2198,  2395,  7244,\n",
       "         1858,  1711,  1615,  1966,  6209,  1557,  1420,  1383,  1658,\n",
       "         5382,  1393,  1294,  1156,  1449,  4956,  1242,  1197,  1105,\n",
       "         1426,  4533,  1292,  1196,  1158,  1937,  4925,  1643,  1296,\n",
       "         1226,  1332,  3897,  1154,   956,   887,  1028,  3363,   924,\n",
       "          884,   869,   959,  3108,   919,   782,   734,   870,  2862,\n",
       "          837,   710,   671,   782,  2667,   752,   662,   645,   742,\n",
       "         2518,   763,   670,   605,   723,  2258,   688,   577,   598,  2840], dtype=int64),\n",
       " array([   0.,    1.,    2.,    3.,    4.,    5.,    6.,    7.,    8.,\n",
       "           9.,   10.,   11.,   12.,   13.,   14.,   15.,   16.,   17.,\n",
       "          18.,   19.,   20.,   21.,   22.,   23.,   24.,   25.,   26.,\n",
       "          27.,   28.,   29.,   30.,   31.,   32.,   33.,   34.,   35.,\n",
       "          36.,   37.,   38.,   39.,   40.,   41.,   42.,   43.,   44.,\n",
       "          45.,   46.,   47.,   48.,   49.,   50.,   51.,   52.,   53.,\n",
       "          54.,   55.,   56.,   57.,   58.,   59.,   60.,   61.,   62.,\n",
       "          63.,   64.,   65.,   66.,   67.,   68.,   69.,   70.,   71.,\n",
       "          72.,   73.,   74.,   75.,   76.,   77.,   78.,   79.,   80.,\n",
       "          81.,   82.,   83.,   84.,   85.,   86.,   87.,   88.,   89.,\n",
       "          90.,   91.,   92.,   93.,   94.,   95.,   96.,   97.,   98.,\n",
       "          99.,  100.]))"
      ]
     },
     "execution_count": 78,
     "metadata": {},
     "output_type": "execute_result"
    }
   ],
   "source": [
    "#the np.histogram function computes a typle of 1) the occurrences of input data that fall within each bin and\n",
    "# 2) the area of each bar\n",
    "hist, bins = np.histogram(hist_dec.TimeSpent_Seconds, bins=1000, range=(0,1000))\n",
    "np.histogram(hist_dec.TimeSpent_Seconds , bins=100, range=(0,100))"
   ]
  },
  {
   "cell_type": "code",
   "execution_count": 79,
   "metadata": {
    "collapsed": false
   },
   "outputs": [
    {
     "data": {
      "text/plain": [
       "<matplotlib.text.Text at 0x27f27588>"
      ]
     },
     "execution_count": 79,
     "metadata": {},
     "output_type": "execute_result"
    },
    {
     "data": {
      "image/png": "[encoded data removed]",
      "text/plain": [
       "<matplotlib.figure.Figure at 0x291864e0>"
      ]
     },
     "metadata": {},
     "output_type": "display_data"
    }
   ],
   "source": [
    "#Now we build the graph\n",
    "#ax[1] references the second chart object from above, then we add the bar command, plt.bar(x, y, align='center')\n",
    "\n",
    "fig, ax = plt.subplots(1,2, figsize=(20,8)) # one row, two columns, figure size\n",
    "\n",
    "ax[0].hist(hist_dec.TimeSpent_Seconds, normed=True)\n",
    "\n",
    "\n",
    "ax[1].bar(bins[:-1],hist.astype(np.float32) / hist.sum() ,width=(bins[1]-bins[0]))\n",
    "\n",
    "ax[0].set_title('normed=True')\n",
    "ax[1].set_title('hist = hist/shit.sum()')"
   ]
  },
  {
   "cell_type": "markdown",
   "metadata": {},
   "source": [
    "#### Okay this doesn't really tell me much, doesn't look like a large dropoff - what about by individual pam_ID?"
   ]
  },
  {
   "cell_type": "markdown",
   "metadata": {},
   "source": [
    "### Multiple statistics per group"
   ]
  },
  {
   "cell_type": "code",
   "execution_count": 100,
   "metadata": {
    "collapsed": false
   },
   "outputs": [
    {
     "data": {
      "text/html": [
       "<div>\n",
       "<table border=\"1\" class=\"dataframe\">\n",
       "  <thead>\n",
       "    <tr style=\"text-align: right;\">\n",
       "      <th></th>\n",
       "      <th>PaM_Id</th>\n",
       "      <th>DeviceType</th>\n",
       "      <th>amin</th>\n",
       "      <th>amax</th>\n",
       "      <th>mean</th>\n",
       "      <th>std</th>\n",
       "      <th>size</th>\n",
       "    </tr>\n",
       "  </thead>\n",
       "  <tbody>\n",
       "    <tr>\n",
       "      <th>0</th>\n",
       "      <td>1432809</td>\n",
       "      <td>Phone</td>\n",
       "      <td>1</td>\n",
       "      <td>5796</td>\n",
       "      <td>132.739837</td>\n",
       "      <td>462.517747</td>\n",
       "      <td>246</td>\n",
       "    </tr>\n",
       "    <tr>\n",
       "      <th>1</th>\n",
       "      <td>1436224</td>\n",
       "      <td>Tablet</td>\n",
       "      <td>5</td>\n",
       "      <td>361</td>\n",
       "      <td>119.405941</td>\n",
       "      <td>93.159677</td>\n",
       "      <td>303</td>\n",
       "    </tr>\n",
       "    <tr>\n",
       "      <th>2</th>\n",
       "      <td>1436994</td>\n",
       "      <td>Phone</td>\n",
       "      <td>5</td>\n",
       "      <td>5096</td>\n",
       "      <td>279.001222</td>\n",
       "      <td>532.756761</td>\n",
       "      <td>818</td>\n",
       "    </tr>\n",
       "    <tr>\n",
       "      <th>3</th>\n",
       "      <td>1437828</td>\n",
       "      <td>Phone</td>\n",
       "      <td>5</td>\n",
       "      <td>1902</td>\n",
       "      <td>89.749493</td>\n",
       "      <td>147.334983</td>\n",
       "      <td>986</td>\n",
       "    </tr>\n",
       "    <tr>\n",
       "      <th>4</th>\n",
       "      <td>1437944</td>\n",
       "      <td>Tablet</td>\n",
       "      <td>5</td>\n",
       "      <td>355</td>\n",
       "      <td>118.741396</td>\n",
       "      <td>87.204298</td>\n",
       "      <td>1017</td>\n",
       "    </tr>\n",
       "  </tbody>\n",
       "</table>\n",
       "</div>"
      ],
      "text/plain": [
       "    PaM_Id DeviceType  amin  amax        mean         std  size\n",
       "0  1432809      Phone     1  5796  132.739837  462.517747   246\n",
       "1  1436224     Tablet     5   361  119.405941   93.159677   303\n",
       "2  1436994      Phone     5  5096  279.001222  532.756761   818\n",
       "3  1437828      Phone     5  1902   89.749493  147.334983   986\n",
       "4  1437944     Tablet     5   355  118.741396   87.204298  1017"
      ]
     },
     "execution_count": 100,
     "metadata": {},
     "output_type": "execute_result"
    }
   ],
   "source": [
    "# find min and max by pam_id and by devicetype across app times\n",
    "grouped = hist_dec.groupby(['PaM_Id','DeviceType']).TimeSpent_Seconds.agg([np.min, np.max, np.mean, np.std, np.size]).reset_index()\n",
    "grouped.head()"
   ]
  },
  {
   "cell_type": "code",
   "execution_count": 101,
   "metadata": {
    "collapsed": false
   },
   "outputs": [
    {
     "data": {
      "text/plain": [
       "array([<matplotlib.axes._subplots.AxesSubplot object at 0x00000000461B31D0>,\n",
       "       <matplotlib.axes._subplots.AxesSubplot object at 0x000000000EAEE9E8>], dtype=object)"
      ]
     },
     "execution_count": 101,
     "metadata": {},
     "output_type": "execute_result"
    },
    {
     "data": {
      "image/png": "[encoded data removed]",
      "text/plain": [
       "<matplotlib.figure.Figure at 0x344832e8>"
      ]
     },
     "metadata": {},
     "output_type": "display_data"
    }
   ],
   "source": [
    "grouped.hist(by='DeviceType', column = \"amin\", \n",
    "#             range=[0,20], \n",
    "             bins=20, figsize = (20,10))"
   ]
  },
  {
   "cell_type": "code",
   "execution_count": 14,
   "metadata": {
    "collapsed": false
   },
   "outputs": [
    {
     "ename": "NameError",
     "evalue": "name 'grouped' is not defined",
     "output_type": "error",
     "traceback": [
      "\u001b[1;31m---------------------------------------------------------------------------\u001b[0m",
      "\u001b[1;31mNameError\u001b[0m                                 Traceback (most recent call last)",
      "\u001b[1;32m<ipython-input-14-c14c2a8e1cbf>\u001b[0m in \u001b[0;36m<module>\u001b[1;34m()\u001b[0m\n\u001b[1;32m----> 1\u001b[1;33m \u001b[0mgrouped\u001b[0m\u001b[1;33m.\u001b[0m\u001b[0mhead\u001b[0m\u001b[1;33m(\u001b[0m\u001b[1;33m)\u001b[0m\u001b[1;33m\u001b[0m\u001b[0m\n\u001b[0m\u001b[0;32m      2\u001b[0m \u001b[1;33m\u001b[0m\u001b[0m\n\u001b[0;32m      3\u001b[0m \u001b[1;31m#np.histogram([1, 2, 1], bins=[0, 1, 2, 3])\u001b[0m\u001b[1;33m\u001b[0m\u001b[1;33m\u001b[0m\u001b[0m\n",
      "\u001b[1;31mNameError\u001b[0m: name 'grouped' is not defined"
     ]
    }
   ],
   "source": [
    "\n",
    " \n",
    "#np.histogram([1, 2, 1], bins=[0, 1, 2, 3])"
   ]
  },
  {
   "cell_type": "code",
   "execution_count": null,
   "metadata": {
    "collapsed": true
   },
   "outputs": [],
   "source": []
  }
 ],
 "metadata": {
  "kernelspec": {
   "display_name": "Python 2",
   "language": "python",
   "name": "python2"
  },
  "language_info": {
   "codemirror_mode": {
    "name": "ipython",
    "version": 2
   },
   "file_extension": ".py",
   "mimetype": "text/x-python",
   "name": "python",
   "nbconvert_exporter": "python",
   "pygments_lexer": "ipython2",
   "version": "2.7.11"
  }
 },
 "nbformat": 4,
 "nbformat_minor": 0
}
